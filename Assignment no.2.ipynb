{
 "cells": [
  {
   "cell_type": "markdown",
   "metadata": {},
   "source": [
    "Q.1 Take the input as email id int the format Firstname.lastname@gmail.com\n",
    "and extract \n",
    "First Name\n",
    "Last Name\n",
    "Domain: gmail.com"
   ]
  },
  {
   "cell_type": "code",
   "execution_count": 5,
   "metadata": {},
   "outputs": [
    {
     "name": "stdout",
     "output_type": "stream",
     "text": [
      "Enter email idmadhu.khoje@gmail.com\n",
      "madhu.khoje@gmail.com\n",
      "First Name: madhu\n",
      "Last Name: khoje\n",
      "Domain: gmail.com\n"
     ]
    }
   ],
   "source": [
    "emailid=input(\"Enter email id\")\n",
    "print(emailid)\n",
    "\n",
    "tempstr=emailid.split('@')\n",
    "name=tempstr[0].split('.')\n",
    "print('First Name:',name[0])\n",
    "print('Last Name:',name[1])\n",
    "print('Domain:',tempstr[1])"
   ]
  },
  {
   "cell_type": "markdown",
   "metadata": {},
   "source": [
    "Q.2 Accept name,class, english, maths, science and computer marks, calculate avg and print grade accoredingly"
   ]
  },
  {
   "cell_type": "code",
   "execution_count": 6,
   "metadata": {},
   "outputs": [
    {
     "name": "stdout",
     "output_type": "stream",
     "text": [
      "Enter Student Name : Madhu\n",
      "Enter English Marks : 76\n",
      "Enter maths Marks : 89\n",
      "Enter science Marks : 98\n",
      "Enter computer Marks : 87\n",
      "Output\n",
      "Name :  Madhu\n",
      "English :  76\n",
      "Maths :  89\n",
      "Science :  98\n",
      "Computer :  87\n",
      "Total :  350\n",
      "Average :  87.5\n",
      "Grade :  A Grade\n"
     ]
    }
   ],
   "source": [
    "name = input(\"Enter Student Name : \")\n",
    "eng = int(input(\"Enter English Marks : \"))\n",
    "maths = int(input(\"Enter maths Marks : \"))\n",
    "science = int(input(\"Enter science Marks : \"))\n",
    "computer = int(input(\"Enter computer Marks : \"))\n",
    "\n",
    "tot = (eng+maths+science+computer)\n",
    "avg = tot/4\n",
    "\n",
    "if avg>=80:\n",
    "    grade = \"A Grade\"\n",
    "elif avg>=70 and avg<80:\n",
    "    grade = \"B Grade\"\n",
    "elif avg>=60 and avg<70:\n",
    "    grade = \"C Grade\"\n",
    "else:\n",
    "    grade = \"Fail\"\n",
    "\n",
    "print(\"Output\")\n",
    "print(\"Name : \", name)\n",
    "print(\"English : \", eng)\n",
    "print(\"Maths : \", maths)\n",
    "print(\"Science : \", science)\n",
    "print(\"Computer : \", computer)\n",
    "print(\"Total : \", tot)\n",
    "print(\"Average : \", avg)\n",
    "print(\"Grade : \",grade)"
   ]
  },
  {
   "cell_type": "markdown",
   "metadata": {},
   "source": [
    "Q.3 Accept Employee name, Designation, Experience and salary and  calculate hike in salary according to given conditions."
   ]
  },
  {
   "cell_type": "code",
   "execution_count": 7,
   "metadata": {},
   "outputs": [
    {
     "name": "stdout",
     "output_type": "stream",
     "text": [
      "Enter Employee Name : Satish\n",
      "Enter Designation : TM\n",
      "Enter Employee Experience : 14\n",
      "Enter Employee Salary : 30000\n",
      "Output\n",
      "Employee Name :  Satish\n",
      "Employee Designation :  TM\n",
      "Employee Experience :  14\n",
      "Employee Salary :  30000\n",
      "Hike got in new Salary :  5400.0\n"
     ]
    }
   ],
   "source": [
    "name = input(\"Enter Employee Name : \")\n",
    "deg = input(\"Enter Designation : \")\n",
    "exp = int(input(\"Enter Employee Experience : \"))\n",
    "sal = int(input(\"Enter Employee Salary : \"))\n",
    "\n",
    "if deg==\"PM\":\n",
    "    if exp>=15:\n",
    "        hike = (sal*20)/100\n",
    "    elif exp>=10:\n",
    "        hike = (sal*15)/100\n",
    "    else:\n",
    "        hike = (sal*12)/100\n",
    "elif deg == \"TM\":\n",
    "    if exp>=15:\n",
    "        hike = (sal*22)/100\n",
    "    elif exp>=10:\n",
    "        hike = (sal*18)/100\n",
    "    else:\n",
    "        hike = (sal*15)/100\n",
    "elif deg == \"DEV\":\n",
    "    if exp>=10:\n",
    "        hike = (sal*18)/100\n",
    "    elif exp>=8:\n",
    "        hike = (sal*14)/100\n",
    "    else:\n",
    "        hike = (sal*10)/100\n",
    "else:\n",
    "    hike = (sal*10)/100\n",
    "    \n",
    "\n",
    "print(\"Output\")\n",
    "print(\"Employee Name : \", name)\n",
    "print(\"Employee Designation : \", deg)\n",
    "print(\"Employee Experience : \", exp)\n",
    "print(\"Employee Salary : \", sal)\n",
    "print(\"Hike got in new Salary : \", hike)\n"
   ]
  },
  {
   "cell_type": "code",
   "execution_count": null,
   "metadata": {},
   "outputs": [],
   "source": []
  }
 ],
 "metadata": {
  "kernelspec": {
   "display_name": "Python 3",
   "language": "python",
   "name": "python3"
  },
  "language_info": {
   "codemirror_mode": {
    "name": "ipython",
    "version": 3
   },
   "file_extension": ".py",
   "mimetype": "text/x-python",
   "name": "python",
   "nbconvert_exporter": "python",
   "pygments_lexer": "ipython3",
   "version": "3.7.6"
  }
 },
 "nbformat": 4,
 "nbformat_minor": 4
}
